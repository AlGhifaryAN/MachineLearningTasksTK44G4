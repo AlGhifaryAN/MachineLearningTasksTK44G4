{
  "nbformat": 4,
  "nbformat_minor": 0,
  "metadata": {
    "colab": {
      "provenance": [],
      "authorship_tag": "ABX9TyPVdY6T2goYehZmuWI0W6S9",
      "include_colab_link": true
    },
    "kernelspec": {
      "name": "python3",
      "display_name": "Python 3"
    },
    "language_info": {
      "name": "python"
    }
  },
  "cells": [
    {
      "cell_type": "markdown",
      "metadata": {
        "id": "view-in-github",
        "colab_type": "text"
      },
      "source": [
        "<a href=\"https://colab.research.google.com/github/AlGhifaryAN/MachineLearningTasksTK44G4/blob/main/Regression_Neural_Network.ipynb\" target=\"_parent\"><img src=\"https://colab.research.google.com/assets/colab-badge.svg\" alt=\"Open In Colab\"/></a>"
      ]
    },
    {
      "cell_type": "code",
      "execution_count": null,
      "metadata": {
        "id": "Zfz6bKGadO-4"
      },
      "outputs": [],
      "source": [
        "#Nama  : Al Ghifary Akmal Nasheeri\n",
        "#NIM   : 1103201242\n",
        "#Kelas : TK-44-G4"
      ]
    },
    {
      "cell_type": "code",
      "source": [
        "import numpy as np\n",
        "\n",
        "xs = np.array([1.0, 2.0, 3.0, 4.0, 5.0, 6.0], dtype=float)\n",
        "ys = np.array([4.0, 6.0, 8.0, 10.0, 12.0, 14.0], dtype=float)"
      ],
      "metadata": {
        "id": "wNrYrk8Od2VW"
      },
      "execution_count": null,
      "outputs": []
    },
    {
      "cell_type": "code",
      "source": [
        "import tensorflow as tf\n",
        "from tensorflow import keras\n",
        "\n",
        "model_1_layer = tf.keras.Sequential([keras.layers.Dense(units=1, input_shape=[1])])"
      ],
      "metadata": {
        "id": "Kcy3PDMWe_x1"
      },
      "execution_count": null,
      "outputs": []
    },
    {
      "cell_type": "code",
      "source": [
        "model_1_layer.compile(optimizer='sgd', loss='mean_squared_error')"
      ],
      "metadata": {
        "id": "-2W1vBsNfA_8"
      },
      "execution_count": null,
      "outputs": []
    },
    {
      "cell_type": "code",
      "source": [
        "model_1_layer.fit(xs, ys, epochs=50)"
      ],
      "metadata": {
        "colab": {
          "base_uri": "https://localhost:8080/"
        },
        "id": "NiFpFqXofcTW",
        "outputId": "876e48f2-e045-48d2-c486-ef92eb777770"
      },
      "execution_count": null,
      "outputs": [
        {
          "output_type": "stream",
          "name": "stdout",
          "text": [
            "Epoch 1/50\n",
            "1/1 [==============================] - 0s 263ms/step - loss: 258.7014\n",
            "Epoch 2/50\n",
            "1/1 [==============================] - 0s 12ms/step - loss: 119.8549\n",
            "Epoch 3/50\n",
            "1/1 [==============================] - 0s 10ms/step - loss: 55.5917\n",
            "Epoch 4/50\n",
            "1/1 [==============================] - 0s 8ms/step - loss: 25.8479\n",
            "Epoch 5/50\n",
            "1/1 [==============================] - 0s 9ms/step - loss: 12.0807\n",
            "Epoch 6/50\n",
            "1/1 [==============================] - 0s 9ms/step - loss: 5.7079\n",
            "Epoch 7/50\n",
            "1/1 [==============================] - 0s 8ms/step - loss: 2.7576\n",
            "Epoch 8/50\n",
            "1/1 [==============================] - 0s 8ms/step - loss: 1.3913\n",
            "Epoch 9/50\n",
            "1/1 [==============================] - 0s 8ms/step - loss: 0.7580\n",
            "Epoch 10/50\n",
            "1/1 [==============================] - 0s 9ms/step - loss: 0.4641\n",
            "Epoch 11/50\n",
            "1/1 [==============================] - 0s 8ms/step - loss: 0.3273\n",
            "Epoch 12/50\n",
            "1/1 [==============================] - 0s 8ms/step - loss: 0.2631\n",
            "Epoch 13/50\n",
            "1/1 [==============================] - 0s 8ms/step - loss: 0.2326\n",
            "Epoch 14/50\n",
            "1/1 [==============================] - 0s 10ms/step - loss: 0.2177\n",
            "Epoch 15/50\n",
            "1/1 [==============================] - 0s 9ms/step - loss: 0.2100\n",
            "Epoch 16/50\n",
            "1/1 [==============================] - 0s 9ms/step - loss: 0.2056\n",
            "Epoch 17/50\n",
            "1/1 [==============================] - 0s 9ms/step - loss: 0.2028\n",
            "Epoch 18/50\n",
            "1/1 [==============================] - 0s 8ms/step - loss: 0.2007\n",
            "Epoch 19/50\n",
            "1/1 [==============================] - 0s 8ms/step - loss: 0.1990\n",
            "Epoch 20/50\n",
            "1/1 [==============================] - 0s 10ms/step - loss: 0.1974\n",
            "Epoch 21/50\n",
            "1/1 [==============================] - 0s 8ms/step - loss: 0.1959\n",
            "Epoch 22/50\n",
            "1/1 [==============================] - 0s 9ms/step - loss: 0.1944\n",
            "Epoch 23/50\n",
            "1/1 [==============================] - 0s 8ms/step - loss: 0.1930\n",
            "Epoch 24/50\n",
            "1/1 [==============================] - 0s 9ms/step - loss: 0.1916\n",
            "Epoch 25/50\n",
            "1/1 [==============================] - 0s 9ms/step - loss: 0.1902\n",
            "Epoch 26/50\n",
            "1/1 [==============================] - 0s 10ms/step - loss: 0.1888\n",
            "Epoch 27/50\n",
            "1/1 [==============================] - 0s 9ms/step - loss: 0.1874\n",
            "Epoch 28/50\n",
            "1/1 [==============================] - 0s 9ms/step - loss: 0.1861\n",
            "Epoch 29/50\n",
            "1/1 [==============================] - 0s 13ms/step - loss: 0.1847\n",
            "Epoch 30/50\n",
            "1/1 [==============================] - 0s 9ms/step - loss: 0.1834\n",
            "Epoch 31/50\n",
            "1/1 [==============================] - 0s 7ms/step - loss: 0.1820\n",
            "Epoch 32/50\n",
            "1/1 [==============================] - 0s 8ms/step - loss: 0.1807\n",
            "Epoch 33/50\n",
            "1/1 [==============================] - 0s 13ms/step - loss: 0.1794\n",
            "Epoch 34/50\n",
            "1/1 [==============================] - 0s 9ms/step - loss: 0.1781\n",
            "Epoch 35/50\n",
            "1/1 [==============================] - 0s 8ms/step - loss: 0.1768\n",
            "Epoch 36/50\n",
            "1/1 [==============================] - 0s 10ms/step - loss: 0.1755\n",
            "Epoch 37/50\n",
            "1/1 [==============================] - 0s 11ms/step - loss: 0.1742\n",
            "Epoch 38/50\n",
            "1/1 [==============================] - 0s 11ms/step - loss: 0.1729\n",
            "Epoch 39/50\n",
            "1/1 [==============================] - 0s 10ms/step - loss: 0.1717\n",
            "Epoch 40/50\n",
            "1/1 [==============================] - 0s 8ms/step - loss: 0.1704\n",
            "Epoch 41/50\n",
            "1/1 [==============================] - 0s 9ms/step - loss: 0.1692\n",
            "Epoch 42/50\n",
            "1/1 [==============================] - 0s 8ms/step - loss: 0.1680\n",
            "Epoch 43/50\n",
            "1/1 [==============================] - 0s 9ms/step - loss: 0.1667\n",
            "Epoch 44/50\n",
            "1/1 [==============================] - 0s 9ms/step - loss: 0.1655\n",
            "Epoch 45/50\n",
            "1/1 [==============================] - 0s 9ms/step - loss: 0.1643\n",
            "Epoch 46/50\n",
            "1/1 [==============================] - 0s 8ms/step - loss: 0.1631\n",
            "Epoch 47/50\n",
            "1/1 [==============================] - 0s 10ms/step - loss: 0.1619\n",
            "Epoch 48/50\n",
            "1/1 [==============================] - 0s 8ms/step - loss: 0.1607\n",
            "Epoch 49/50\n",
            "1/1 [==============================] - 0s 10ms/step - loss: 0.1596\n",
            "Epoch 50/50\n",
            "1/1 [==============================] - 0s 9ms/step - loss: 0.1584\n"
          ]
        },
        {
          "output_type": "execute_result",
          "data": {
            "text/plain": [
              "<keras.src.callbacks.History at 0x7a7ff58aed40>"
            ]
          },
          "metadata": {},
          "execution_count": 27
        }
      ]
    },
    {
      "cell_type": "code",
      "source": [
        "print(model_1_layer.predict([10.0]))"
      ],
      "metadata": {
        "colab": {
          "base_uri": "https://localhost:8080/"
        },
        "id": "vXlDjMu3fj-L",
        "outputId": "f49704b1-dcdf-4bbf-c3f3-d0efd4f2298a"
      },
      "execution_count": null,
      "outputs": [
        {
          "output_type": "stream",
          "name": "stdout",
          "text": [
            "1/1 [==============================] - 0s 62ms/step\n",
            "[[23.207565]]\n"
          ]
        }
      ]
    },
    {
      "cell_type": "code",
      "source": [
        "model_3_layers = tf.keras.Sequential([\n",
        "    keras.layers.Dense(units=1, input_shape=[1]),\n",
        "    keras.layers.Dense(units=8),\n",
        "    keras.layers.Dense(units=1)\n",
        "])"
      ],
      "metadata": {
        "id": "haCtxLiZhF4l"
      },
      "execution_count": null,
      "outputs": []
    },
    {
      "cell_type": "code",
      "source": [
        "model_3_layers.compile(optimizer='sgd', loss='mean_squared_error')"
      ],
      "metadata": {
        "id": "KCu7H_ikhiUn"
      },
      "execution_count": null,
      "outputs": []
    },
    {
      "cell_type": "code",
      "source": [
        "model_3_layers.fit(xs, ys, epochs=50)"
      ],
      "metadata": {
        "colab": {
          "base_uri": "https://localhost:8080/"
        },
        "id": "SAF1yEiyhK6b",
        "outputId": "15722619-f513-4cd9-bcd8-7a13885dd481"
      },
      "execution_count": null,
      "outputs": [
        {
          "output_type": "stream",
          "name": "stdout",
          "text": [
            "Epoch 1/50\n",
            "1/1 [==============================] - 0s 397ms/step - loss: 71.9488\n",
            "Epoch 2/50\n",
            "1/1 [==============================] - 0s 9ms/step - loss: 7.2121\n",
            "Epoch 3/50\n",
            "1/1 [==============================] - 0s 9ms/step - loss: 25.8355\n",
            "Epoch 4/50\n",
            "1/1 [==============================] - 0s 10ms/step - loss: 83.6299\n",
            "Epoch 5/50\n",
            "1/1 [==============================] - 0s 10ms/step - loss: 64.6867\n",
            "Epoch 6/50\n",
            "1/1 [==============================] - 0s 13ms/step - loss: 20.9139\n",
            "Epoch 7/50\n",
            "1/1 [==============================] - 0s 11ms/step - loss: 13.2153\n",
            "Epoch 8/50\n",
            "1/1 [==============================] - 0s 10ms/step - loss: 47.1836\n",
            "Epoch 9/50\n",
            "1/1 [==============================] - 0s 11ms/step - loss: 2.7728\n",
            "Epoch 10/50\n",
            "1/1 [==============================] - 0s 11ms/step - loss: 6.6975\n",
            "Epoch 11/50\n",
            "1/1 [==============================] - 0s 11ms/step - loss: 24.6162\n",
            "Epoch 12/50\n",
            "1/1 [==============================] - 0s 8ms/step - loss: 4.9724\n",
            "Epoch 13/50\n",
            "1/1 [==============================] - 0s 11ms/step - loss: 17.8829\n",
            "Epoch 14/50\n",
            "1/1 [==============================] - 0s 8ms/step - loss: 8.3123\n",
            "Epoch 15/50\n",
            "1/1 [==============================] - 0s 8ms/step - loss: 28.2298\n",
            "Epoch 16/50\n",
            "1/1 [==============================] - 0s 8ms/step - loss: 1.3605\n",
            "Epoch 17/50\n",
            "1/1 [==============================] - 0s 8ms/step - loss: 4.5109\n",
            "Epoch 18/50\n",
            "1/1 [==============================] - 0s 8ms/step - loss: 7.4491\n",
            "Epoch 19/50\n",
            "1/1 [==============================] - 0s 8ms/step - loss: 24.5160\n",
            "Epoch 20/50\n",
            "1/1 [==============================] - 0s 8ms/step - loss: 2.3062\n",
            "Epoch 21/50\n",
            "1/1 [==============================] - 0s 8ms/step - loss: 7.4480\n",
            "Epoch 22/50\n",
            "1/1 [==============================] - 0s 8ms/step - loss: 8.3616\n",
            "Epoch 23/50\n",
            "1/1 [==============================] - 0s 8ms/step - loss: 26.2936\n",
            "Epoch 24/50\n",
            "1/1 [==============================] - 0s 8ms/step - loss: 0.9431\n",
            "Epoch 25/50\n",
            "1/1 [==============================] - 0s 8ms/step - loss: 2.8068\n",
            "Epoch 26/50\n",
            "1/1 [==============================] - 0s 8ms/step - loss: 4.7615\n",
            "Epoch 27/50\n",
            "1/1 [==============================] - 0s 9ms/step - loss: 14.8320\n",
            "Epoch 28/50\n",
            "1/1 [==============================] - 0s 13ms/step - loss: 5.8665\n",
            "Epoch 29/50\n",
            "1/1 [==============================] - 0s 8ms/step - loss: 17.9193\n",
            "Epoch 30/50\n",
            "1/1 [==============================] - 0s 9ms/step - loss: 3.9579\n",
            "Epoch 31/50\n",
            "1/1 [==============================] - 0s 10ms/step - loss: 11.8608\n",
            "Epoch 32/50\n",
            "1/1 [==============================] - 0s 10ms/step - loss: 6.2754\n",
            "Epoch 33/50\n",
            "1/1 [==============================] - 0s 11ms/step - loss: 18.5437\n",
            "Epoch 34/50\n",
            "1/1 [==============================] - 0s 10ms/step - loss: 3.0526\n",
            "Epoch 35/50\n",
            "1/1 [==============================] - 0s 11ms/step - loss: 8.7686\n",
            "Epoch 36/50\n",
            "1/1 [==============================] - 0s 11ms/step - loss: 6.3209\n",
            "Epoch 37/50\n",
            "1/1 [==============================] - 0s 11ms/step - loss: 18.1661\n",
            "Epoch 38/50\n",
            "1/1 [==============================] - 0s 9ms/step - loss: 2.7664\n",
            "Epoch 39/50\n",
            "1/1 [==============================] - 0s 12ms/step - loss: 7.6664\n",
            "Epoch 40/50\n",
            "1/1 [==============================] - 0s 8ms/step - loss: 5.9102\n",
            "Epoch 41/50\n",
            "1/1 [==============================] - 0s 8ms/step - loss: 16.5710\n",
            "Epoch 42/50\n",
            "1/1 [==============================] - 0s 8ms/step - loss: 3.0796\n",
            "Epoch 43/50\n",
            "1/1 [==============================] - 0s 8ms/step - loss: 8.3440\n",
            "Epoch 44/50\n",
            "1/1 [==============================] - 0s 8ms/step - loss: 5.5235\n",
            "Epoch 45/50\n",
            "1/1 [==============================] - 0s 8ms/step - loss: 15.1107\n",
            "Epoch 46/50\n",
            "1/1 [==============================] - 0s 8ms/step - loss: 3.3375\n",
            "Epoch 47/50\n",
            "1/1 [==============================] - 0s 8ms/step - loss: 8.8472\n",
            "Epoch 48/50\n",
            "1/1 [==============================] - 0s 8ms/step - loss: 5.1299\n",
            "Epoch 49/50\n",
            "1/1 [==============================] - 0s 8ms/step - loss: 13.6939\n",
            "Epoch 50/50\n",
            "1/1 [==============================] - 0s 8ms/step - loss: 3.5713\n"
          ]
        },
        {
          "output_type": "execute_result",
          "data": {
            "text/plain": [
              "<keras.src.callbacks.History at 0x7a7ff574b970>"
            ]
          },
          "metadata": {},
          "execution_count": 31
        }
      ]
    },
    {
      "cell_type": "code",
      "source": [
        "print(model_3_layers.predict([10.0]))"
      ],
      "metadata": {
        "colab": {
          "base_uri": "https://localhost:8080/"
        },
        "id": "mP4RExUehQn1",
        "outputId": "19edfc5d-9a67-4dda-a021-07842c12bb77"
      },
      "execution_count": null,
      "outputs": [
        {
          "output_type": "stream",
          "name": "stderr",
          "text": [
            "WARNING:tensorflow:5 out of the last 5 calls to <function Model.make_predict_function.<locals>.predict_function at 0x7a7ff58f9990> triggered tf.function retracing. Tracing is expensive and the excessive number of tracings could be due to (1) creating @tf.function repeatedly in a loop, (2) passing tensors with different shapes, (3) passing Python objects instead of tensors. For (1), please define your @tf.function outside of the loop. For (2), @tf.function has reduce_retracing=True option that can avoid unnecessary retracing. For (3), please refer to https://www.tensorflow.org/guide/function#controlling_retracing and https://www.tensorflow.org/api_docs/python/tf/function for  more details.\n"
          ]
        },
        {
          "output_type": "stream",
          "name": "stdout",
          "text": [
            "1/1 [==============================] - 0s 77ms/step\n",
            "[[13.821097]]\n"
          ]
        }
      ]
    }
  ]
}