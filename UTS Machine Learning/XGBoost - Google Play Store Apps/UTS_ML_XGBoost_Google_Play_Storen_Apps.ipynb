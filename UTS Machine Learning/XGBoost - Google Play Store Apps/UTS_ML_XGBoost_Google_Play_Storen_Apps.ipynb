{
  "nbformat": 4,
  "nbformat_minor": 0,
  "metadata": {
    "colab": {
      "provenance": [],
      "authorship_tag": "ABX9TyPkiFgVe8VwUpYNek0cpRIa",
      "include_colab_link": true
    },
    "kernelspec": {
      "name": "python3",
      "display_name": "Python 3"
    },
    "language_info": {
      "name": "python"
    }
  },
  "cells": [
    {
      "cell_type": "markdown",
      "metadata": {
        "id": "view-in-github",
        "colab_type": "text"
      },
      "source": [
        "<a href=\"https://colab.research.google.com/github/AlGhifaryAN/MachineLearningTasksTK44G4/blob/main/UTS_ML_XGBoost_Google_Play_Storen_Apps.ipynb\" target=\"_parent\"><img src=\"https://colab.research.google.com/assets/colab-badge.svg\" alt=\"Open In Colab\"/></a>"
      ]
    },
    {
      "cell_type": "code",
      "execution_count": null,
      "metadata": {
        "id": "pPj01Qmw6KGo"
      },
      "outputs": [],
      "source": [
        "#Nama    : Al Ghifary Akmal Nasheeri\n",
        "#NIM     : 1103201242\n",
        "#Kelas   : TK-44-G4\n",
        "#Model   : XGBoost\n",
        "#Dataset : Google Play Store Apps"
      ]
    },
    {
      "cell_type": "code",
      "source": [
        "from google.colab import drive\n",
        "drive.mount('/content/drive')"
      ],
      "metadata": {
        "colab": {
          "base_uri": "https://localhost:8080/"
        },
        "id": "nI2XStOxu1Vd",
        "outputId": "bb050187-4053-4b78-f12f-9e48cc98e15d"
      },
      "execution_count": null,
      "outputs": [
        {
          "output_type": "stream",
          "name": "stdout",
          "text": [
            "Mounted at /content/drive\n"
          ]
        }
      ]
    },
    {
      "cell_type": "markdown",
      "source": [
        "Import Libraries dan Load Dataset"
      ],
      "metadata": {
        "id": "EPJ_WFMF0Rri"
      }
    },
    {
      "cell_type": "code",
      "source": [
        "# Import libraries\n",
        "import pandas as pd\n",
        "from sklearn.model_selection import train_test_split, GridSearchCV\n",
        "from sklearn.metrics import mean_absolute_error\n",
        "from xgboost import XGBRegressor\n",
        "\n",
        "# Mendefinisikan path dataset Google Play Store Apps CSV\n",
        "playstore_dataset_path = '/content/drive/MyDrive/Dataset/googleplaystore.csv'\n",
        "\n",
        "# Mendefinisikan path dataset Google Play Store Apps CSV\n",
        "playstore_data = pd.read_csv(playstore_dataset_path)\n",
        "print(playstore_data.head())"
      ],
      "metadata": {
        "colab": {
          "base_uri": "https://localhost:8080/"
        },
        "id": "ybMsj0h70LSD",
        "outputId": "dd426548-d4ef-406f-d339-cc0308f76398"
      },
      "execution_count": null,
      "outputs": [
        {
          "output_type": "stream",
          "name": "stdout",
          "text": [
            "                                                 App        Category  Rating  \\\n",
            "0     Photo Editor & Candy Camera & Grid & ScrapBook  ART_AND_DESIGN     4.1   \n",
            "1                                Coloring book moana  ART_AND_DESIGN     3.9   \n",
            "2  U Launcher Lite – FREE Live Cool Themes, Hide ...  ART_AND_DESIGN     4.7   \n",
            "3                              Sketch - Draw & Paint  ART_AND_DESIGN     4.5   \n",
            "4              Pixel Draw - Number Art Coloring Book  ART_AND_DESIGN     4.3   \n",
            "\n",
            "  Reviews  Size     Installs  Type Price Content Rating  \\\n",
            "0     159   19M      10,000+  Free     0       Everyone   \n",
            "1     967   14M     500,000+  Free     0       Everyone   \n",
            "2   87510  8.7M   5,000,000+  Free     0       Everyone   \n",
            "3  215644   25M  50,000,000+  Free     0           Teen   \n",
            "4     967  2.8M     100,000+  Free     0       Everyone   \n",
            "\n",
            "                      Genres      Last Updated         Current Ver  \\\n",
            "0               Art & Design   January 7, 2018               1.0.0   \n",
            "1  Art & Design;Pretend Play  January 15, 2018               2.0.0   \n",
            "2               Art & Design    August 1, 2018               1.2.4   \n",
            "3               Art & Design      June 8, 2018  Varies with device   \n",
            "4    Art & Design;Creativity     June 20, 2018                 1.1   \n",
            "\n",
            "    Android Ver  \n",
            "0  4.0.3 and up  \n",
            "1  4.0.3 and up  \n",
            "2  4.0.3 and up  \n",
            "3    4.2 and up  \n",
            "4    4.4 and up  \n"
          ]
        }
      ]
    },
    {
      "cell_type": "markdown",
      "source": [
        "Data Preprocessing"
      ],
      "metadata": {
        "id": "ivDSIA6F0V4v"
      }
    },
    {
      "cell_type": "code",
      "source": [
        "# Mengubah kolom 'Price' menjadi numerik, mengganti nilai non-numerik dengan 0\n",
        "playstore_data['Price'] = playstore_data['Price'].apply(lambda x: 0 if x == '0' else float(x[1:]) if '$' in x else 0)\n",
        "playstore_data['Size'] = playstore_data['Size'].replace('Varies with device', '0')\n",
        "playstore_data['Size'] = playstore_data['Size'].apply(lambda x: str(x).replace('M', '') if 'M' in str(x) else str(x))\n",
        "playstore_data['Size'] = playstore_data['Size'].apply(lambda x: str(x).replace('k', '') if 'k' in str(x) else str(x))\n",
        "playstore_data['Size'] = pd.to_numeric(playstore_data['Size'].replace(',', '', regex=True), errors='coerce').fillna(0)\n",
        "playstore_data['Installs'] = playstore_data['Installs'].apply(lambda x: 0 if not x.isdigit() else int(x[:-1].replace(',', '')) if '+' in x else 0)\n",
        "playstore_data['Reviews'] = pd.to_numeric(playstore_data['Reviews'], errors='coerce').fillna(0)\n",
        "\n",
        "# Melakukan encoding kolom 'Content Rating' dan memilih fitur-fitur\n",
        "playstore_data = pd.get_dummies(playstore_data, columns=['Content Rating'], drop_first=True)\n",
        "cols_to_use_playstore = ['Rating', 'Reviews', 'Size', 'Installs', 'Price']\n",
        "playstore_data = playstore_data[cols_to_use_playstore].dropna()\n",
        "X_playstore = playstore_data.drop('Rating', axis=1)\n",
        "y_playstore = playstore_data['Rating']"
      ],
      "metadata": {
        "id": "4EbfXTra0Phh"
      },
      "execution_count": null,
      "outputs": []
    },
    {
      "cell_type": "markdown",
      "source": [
        "Menampilkan Data Frame yang Digunakan"
      ],
      "metadata": {
        "id": "rpN5Z6dc0a3R"
      }
    },
    {
      "cell_type": "code",
      "source": [
        "# Menampilkan frame yang digunakan untuk XGBoost\n",
        "print(\"Frame yang digunakan untuk XGBoost:\")\n",
        "print(X_playstore.head())\n"
      ],
      "metadata": {
        "colab": {
          "base_uri": "https://localhost:8080/"
        },
        "id": "i3ifaQB-0cri",
        "outputId": "1145a347-cbc4-43a4-9593-eee58fd36a37"
      },
      "execution_count": null,
      "outputs": [
        {
          "output_type": "stream",
          "name": "stdout",
          "text": [
            "Frame yang digunakan untuk XGBoost:\n",
            "    Reviews  Size  Installs  Price\n",
            "0     159.0  19.0         0    0.0\n",
            "1     967.0  14.0         0    0.0\n",
            "2   87510.0   8.7         0    0.0\n",
            "3  215644.0  25.0         0    0.0\n",
            "4     967.0   2.8         0    0.0\n"
          ]
        }
      ]
    },
    {
      "cell_type": "markdown",
      "source": [
        "Split Data dan Penyetelan Hyperparameter"
      ],
      "metadata": {
        "id": "VfVcDoHA0eXd"
      }
    },
    {
      "cell_type": "code",
      "source": [
        "# Memisahkan data ke dalam set pelatihan dan validasi\n",
        "X_train_playstore, X_valid_playstore, y_train_playstore, y_valid_playstore = train_test_split(X_playstore, y_playstore, test_size=0.2, random_state=42)\n",
        "\n",
        "# Penyetelan hyperparameter menggunakan GridSearchCV\n",
        "model_grid = XGBRegressor()\n",
        "param_grid = {\n",
        "    'n_estimators': [100, 150, 200, 250, 300]\n",
        "}\n",
        "grid_search = GridSearchCV(estimator=model_grid, param_grid=param_grid, cv=5, scoring='neg_mean_absolute_error')\n",
        "grid_search.fit(X_train_playstore, y_train_playstore)\n",
        "best_n_estimators = grid_search.best_params_['n_estimators']\n",
        "print(\"Best n_estimators:\", best_n_estimators)\n"
      ],
      "metadata": {
        "colab": {
          "base_uri": "https://localhost:8080/"
        },
        "id": "lDwLvPta0d-d",
        "outputId": "b616de0e-c454-4ba5-bfd1-afc37e75bae4"
      },
      "execution_count": null,
      "outputs": [
        {
          "output_type": "stream",
          "name": "stdout",
          "text": [
            "Best n_estimators: 100\n"
          ]
        }
      ]
    },
    {
      "cell_type": "markdown",
      "source": [
        "Pelatihan dan Penyesuaian Model dengan n_estimators Berbeda"
      ],
      "metadata": {
        "id": "yNqTqYfr0joU"
      }
    },
    {
      "cell_type": "code",
      "source": [
        "# Menginisialisasi my_model dengan XGBRegressor dan melatih dengan seluruh data\n",
        "my_model = XGBRegressor()\n",
        "my_model.fit(X_playstore, y_playstore)\n",
        "\n",
        "# Menyesuaikan model dengan n_estimators yang berbeda dan menyimpan hasil MAE\n",
        "n_estimators_list = [100, 150, 200, 250, 300]\n",
        "mae_results = []\n",
        "\n",
        "for n_estimators in n_estimators_list:\n",
        "    model_grid = XGBRegressor(n_estimators=n_estimators)\n",
        "    model_grid.fit(X_train_playstore, y_train_playstore)\n",
        "\n",
        "    predictions = model_grid.predict(X_valid_playstore)\n",
        "    mae = mean_absolute_error(predictions, y_valid_playstore)\n",
        "\n",
        "    print(f\"n_estimators: {n_estimators}, Mean Absolute Error: {mae}\")\n",
        "    mae_results.append(mae)"
      ],
      "metadata": {
        "colab": {
          "base_uri": "https://localhost:8080/"
        },
        "id": "nxpJjMOl0oIQ",
        "outputId": "bcf3e24b-6d66-4f79-e17d-19b2fdfdd3ef"
      },
      "execution_count": null,
      "outputs": [
        {
          "output_type": "stream",
          "name": "stdout",
          "text": [
            "n_estimators: 100, Mean Absolute Error: 0.35572372828883575\n",
            "n_estimators: 150, Mean Absolute Error: 0.35796208865105666\n",
            "n_estimators: 200, Mean Absolute Error: 0.3628964827307515\n",
            "n_estimators: 250, Mean Absolute Error: 0.36379132146133053\n",
            "n_estimators: 300, Mean Absolute Error: 0.36743499448994055\n"
          ]
        }
      ]
    }
  ]
}
