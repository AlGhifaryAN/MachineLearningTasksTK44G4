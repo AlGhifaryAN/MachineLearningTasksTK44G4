{
  "nbformat": 4,
  "nbformat_minor": 0,
  "metadata": {
    "colab": {
      "provenance": [],
      "authorship_tag": "ABX9TyOlZDIVKe1EUqW87kyhsoD8",
      "include_colab_link": true
    },
    "kernelspec": {
      "name": "python3",
      "display_name": "Python 3"
    },
    "language_info": {
      "name": "python"
    }
  },
  "cells": [
    {
      "cell_type": "markdown",
      "metadata": {
        "id": "view-in-github",
        "colab_type": "text"
      },
      "source": [
        "<a href=\"https://colab.research.google.com/github/AlGhifaryAN/MachineLearningTasksTK44G4/blob/main/Dimensionality_Reduction_in_Iris_Dataset.ipynb\" target=\"_parent\"><img src=\"https://colab.research.google.com/assets/colab-badge.svg\" alt=\"Open In Colab\"/></a>"
      ]
    },
    {
      "cell_type": "code",
      "execution_count": 2,
      "metadata": {
        "id": "KuouBTCwL-zD"
      },
      "outputs": [],
      "source": [
        "#Nama  : Al Ghifary Akmal Nasheeri\n",
        "#NIM   : 1103201242\n",
        "#Kelas : TK-44-G4"
      ]
    },
    {
      "cell_type": "code",
      "execution_count": 3,
      "metadata": {
        "id": "j8rGqoSl34Ch"
      },
      "outputs": [],
      "source": [
        "from sklearn import datasets\n",
        "from sklearn.model_selection import train_test_split\n",
        "from sklearn.decomposition import PCA\n",
        "from sklearn.tree import DecisionTreeClassifier\n",
        "\n",
        "import matplotlib.pyplot as plt"
      ]
    },
    {
      "cell_type": "code",
      "source": [
        "#Muat dataset Iris\n",
        "iris = datasets.load_iris()\n",
        "atribut = iris.data\n",
        "label = iris.target"
      ],
      "metadata": {
        "id": "cxbi7Cxz4EEr"
      },
      "execution_count": 4,
      "outputs": []
    },
    {
      "cell_type": "code",
      "source": [
        "#Bagi dataset menjadi train set dan test set\n",
        "\n",
        "X_train, X_test, y_train, y_test = train_test_split(atribut, label, test_size=0.2, random_state=42)"
      ],
      "metadata": {
        "id": "BJHVxye04KZ0"
      },
      "execution_count": 5,
      "outputs": []
    },
    {
      "cell_type": "code",
      "source": [
        "#Lakukan dimensionality reduction menggunakan PCA (dengan 2 komponen)\n",
        "\n",
        "pca_2_components = PCA(n_components=2)\n",
        "X_train_pca_2 = pca_2_components.fit_transform(X_train)\n",
        "X_test_pca_2 = pca_2_components.transform(X_test)"
      ],
      "metadata": {
        "id": "dr4xQGI14Ma1"
      },
      "execution_count": 6,
      "outputs": []
    },
    {
      "cell_type": "code",
      "source": [
        "#Latih model Decision Tree dengan data yang telah direduksi (2 komponen)\n",
        "\n",
        "decision_tree_2_components = DecisionTreeClassifier(random_state=42)\n",
        "model_dengan_PCA_2_components = decision_tree_2_components.fit(X_train_pca_2, y_train)"
      ],
      "metadata": {
        "id": "Nx4MPl-I4OvU"
      },
      "execution_count": 7,
      "outputs": []
    },
    {
      "cell_type": "code",
      "source": [
        "#Hitung dan cetak akurasi model pada test set dengan 2 komponen PCA\n",
        "\n",
        "accuracy_2_components = model_dengan_PCA_2_components.score(X_test_pca_2, y_test)\n",
        "print(\"Akurasi model dengan PCA (2 komponen):\", accuracy_2_components)"
      ],
      "metadata": {
        "colab": {
          "base_uri": "https://localhost:8080/"
        },
        "id": "RElIQeSa4QJn",
        "outputId": "612c26ae-7c9d-4c48-dc6d-d9c91da902cd"
      },
      "execution_count": 8,
      "outputs": [
        {
          "output_type": "stream",
          "name": "stdout",
          "text": [
            "Akurasi model dengan PCA (2 komponen): 1.0\n"
          ]
        }
      ]
    },
    {
      "cell_type": "code",
      "source": [
        "#Lakukan dimensionality reduction menggunakan PCA (dengan 4 komponen)\n",
        "\n",
        "pca_4_components = PCA(n_components=4)\n",
        "X_train_pca_4 = pca_4_components.fit_transform(X_train)\n",
        "X_test_pca_4 = pca_4_components.transform(X_test)"
      ],
      "metadata": {
        "id": "TcNeECJ44VYq"
      },
      "execution_count": 9,
      "outputs": []
    },
    {
      "cell_type": "code",
      "source": [
        "# Sel 8: Latih model Decision Tree dengan data yang telah direduksi (4 komponen)\n",
        "\n",
        "decision_tree_4_components = DecisionTreeClassifier(random_state=42)\n",
        "model_dengan_PCA_4_components = decision_tree_4_components.fit(X_train_pca_4, y_train)\n"
      ],
      "metadata": {
        "id": "Ph88qGkN4Wpv"
      },
      "execution_count": 10,
      "outputs": []
    },
    {
      "cell_type": "code",
      "source": [
        "#Hitung dan cetak akurasi model pada test set dengan 4 komponen PCA\n",
        "\n",
        "accuracy_4_components = model_dengan_PCA_4_components.score(X_test_pca_4, y_test)\n",
        "print(\"Akurasi model dengan PCA (4 komponen):\", accuracy_4_components)"
      ],
      "metadata": {
        "colab": {
          "base_uri": "https://localhost:8080/"
        },
        "id": "irX0AGtg4YBl",
        "outputId": "316fbd04-f64f-41cf-8f19-dd7e98aa5cee"
      },
      "execution_count": 11,
      "outputs": [
        {
          "output_type": "stream",
          "name": "stdout",
          "text": [
            "Akurasi model dengan PCA (4 komponen): 1.0\n"
          ]
        }
      ]
    },
    {
      "cell_type": "code",
      "source": [
        "#Variance Ratio (2 komponen)\n",
        "\n",
        "explained_variance_ratio_2 = pca_2_components.explained_variance_ratio_\n",
        "print(\"Explained Variance Ratio (2 komponen):\", explained_variance_ratio_2)\n"
      ],
      "metadata": {
        "colab": {
          "base_uri": "https://localhost:8080/"
        },
        "id": "FsPeYSIW4aAp",
        "outputId": "f297e6e7-6c79-4f8c-db71-9fd5d57b1519"
      },
      "execution_count": 12,
      "outputs": [
        {
          "output_type": "stream",
          "name": "stdout",
          "text": [
            "Explained Variance Ratio (2 komponen): [0.91959926 0.05714377]\n"
          ]
        }
      ]
    },
    {
      "cell_type": "code",
      "source": [
        "#Variance Ratio (4 komponen)\n",
        "\n",
        "explained_variance_ratio_4 = pca_4_components.explained_variance_ratio_\n",
        "print(\"Explained Variance Ratio (4 komponen):\", explained_variance_ratio_4)"
      ],
      "metadata": {
        "colab": {
          "base_uri": "https://localhost:8080/"
        },
        "id": "21BPIDt84bhJ",
        "outputId": "b90658ea-19c4-45b1-8723-065f5ee835f2"
      },
      "execution_count": 13,
      "outputs": [
        {
          "output_type": "stream",
          "name": "stdout",
          "text": [
            "Explained Variance Ratio (4 komponen): [0.91959926 0.05714377 0.01838378 0.00487319]\n"
          ]
        }
      ]
    }
  ]
}
