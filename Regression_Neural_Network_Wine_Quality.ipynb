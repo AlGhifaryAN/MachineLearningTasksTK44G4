{
  "nbformat": 4,
  "nbformat_minor": 0,
  "metadata": {
    "colab": {
      "provenance": [],
      "authorship_tag": "ABX9TyMLDmiBMbB2NVCnvxAwMePl",
      "include_colab_link": true
    },
    "kernelspec": {
      "name": "python3",
      "display_name": "Python 3"
    },
    "language_info": {
      "name": "python"
    }
  },
  "cells": [
    {
      "cell_type": "markdown",
      "metadata": {
        "id": "view-in-github",
        "colab_type": "text"
      },
      "source": [
        "<a href=\"https://colab.research.google.com/github/AlGhifaryAN/MachineLearningTasksTK44G4/blob/main/Regression_Neural_Network_Wine_Quality.ipynb\" target=\"_parent\"><img src=\"https://colab.research.google.com/assets/colab-badge.svg\" alt=\"Open In Colab\"/></a>"
      ]
    },
    {
      "cell_type": "code",
      "execution_count": 22,
      "metadata": {
        "id": "o11ox2U-xsXQ"
      },
      "outputs": [],
      "source": [
        "#Nama  : Al Ghifary Akmal Nasheeri\n",
        "#NIM   : 1103201242\n",
        "#Kelas : TK-44-G4"
      ]
    },
    {
      "cell_type": "code",
      "source": [
        "import pandas as pd\n",
        "import numpy as np\n",
        "import tensorflow as tf\n",
        "from tensorflow import keras\n",
        "from sklearn.model_selection import train_test_split\n",
        "from sklearn.preprocessing import StandardScaler"
      ],
      "metadata": {
        "id": "vIKKSiGAxuWA"
      },
      "execution_count": 23,
      "outputs": []
    },
    {
      "cell_type": "code",
      "source": [
        "# Muat dataset \"Wine Quality\"\n",
        "df = pd.read_csv(\"https://archive.ics.uci.edu/ml/machine-learning-databases/wine-quality/winequality-white.csv\", sep=';')"
      ],
      "metadata": {
        "id": "8SDsY_CFxxd8"
      },
      "execution_count": 24,
      "outputs": []
    },
    {
      "cell_type": "code",
      "source": [
        "# Pisahkan atribut (fitur) dan label (kualitas anggur)\n",
        "X = df.drop('quality', axis=1)  # Ganti 'quality' dengan nama kolom yang sesuai di dataset\n",
        "y = df['quality']"
      ],
      "metadata": {
        "id": "By9QSk-7yLpF"
      },
      "execution_count": 25,
      "outputs": []
    },
    {
      "cell_type": "code",
      "source": [
        "# Bagi dataset menjadi data latih dan data uji\n",
        "X_train, X_test, y_train, y_test = train_test_split(X, y, test_size=0.2, random_state=42)\n",
        "\n",
        "# Normalisasi data menggunakan StandardScaler\n",
        "scaler = StandardScaler()\n",
        "X_train_scaled = scaler.fit_transform(X_train)\n",
        "X_test_scaled = scaler.transform(X_test)"
      ],
      "metadata": {
        "id": "bpXpsHZSyaNk"
      },
      "execution_count": 26,
      "outputs": []
    },
    {
      "cell_type": "code",
      "source": [
        "# Bangun model regresi neural network\n",
        "model = tf.keras.Sequential([\n",
        "    keras.layers.Dense(units=64, activation='relu', input_shape=[X_train.shape[1]]),\n",
        "    keras.layers.Dense(units=1)\n",
        "])\n",
        "model.compile(optimizer='adam', loss='mean_squared_error')\n",
        "\n",
        "# Latih model menggunakan data latih\n",
        "model.fit(X_train_scaled, y_train, epochs=50, batch_size=32, validation_split=0.2)\n",
        "\n",
        "# Evaluasi model menggunakan data uji\n",
        "test_loss = model.evaluate(X_test_scaled, y_test)\n",
        "print(f\"Mean Squared Error on Test Data: {test_loss}\")"
      ],
      "metadata": {
        "colab": {
          "base_uri": "https://localhost:8080/"
        },
        "id": "beHh8Wtnyayc",
        "outputId": "85b9841a-32b7-4868-d80c-1dbf668124c6"
      },
      "execution_count": 27,
      "outputs": [
        {
          "output_type": "stream",
          "name": "stdout",
          "text": [
            "Epoch 1/50\n",
            "98/98 [==============================] - 1s 6ms/step - loss: 19.4840 - val_loss: 8.9338\n",
            "Epoch 2/50\n",
            "98/98 [==============================] - 0s 4ms/step - loss: 4.7453 - val_loss: 2.8671\n",
            "Epoch 3/50\n",
            "98/98 [==============================] - 0s 4ms/step - loss: 2.6315 - val_loss: 2.2325\n",
            "Epoch 4/50\n",
            "98/98 [==============================] - 0s 4ms/step - loss: 2.1649 - val_loss: 1.9148\n",
            "Epoch 5/50\n",
            "98/98 [==============================] - 0s 2ms/step - loss: 1.8530 - val_loss: 1.6919\n",
            "Epoch 6/50\n",
            "98/98 [==============================] - 0s 3ms/step - loss: 1.6130 - val_loss: 1.4977\n",
            "Epoch 7/50\n",
            "98/98 [==============================] - 0s 3ms/step - loss: 1.4216 - val_loss: 1.3119\n",
            "Epoch 8/50\n",
            "98/98 [==============================] - 0s 3ms/step - loss: 1.2512 - val_loss: 1.1743\n",
            "Epoch 9/50\n",
            "98/98 [==============================] - 0s 3ms/step - loss: 1.1069 - val_loss: 1.0447\n",
            "Epoch 10/50\n",
            "98/98 [==============================] - 0s 2ms/step - loss: 0.9850 - val_loss: 0.9346\n",
            "Epoch 11/50\n",
            "98/98 [==============================] - 0s 2ms/step - loss: 0.8804 - val_loss: 0.8465\n",
            "Epoch 12/50\n",
            "98/98 [==============================] - 0s 3ms/step - loss: 0.7941 - val_loss: 0.7654\n",
            "Epoch 13/50\n",
            "98/98 [==============================] - 0s 2ms/step - loss: 0.7262 - val_loss: 0.7127\n",
            "Epoch 14/50\n",
            "98/98 [==============================] - 0s 3ms/step - loss: 0.6678 - val_loss: 0.6697\n",
            "Epoch 15/50\n",
            "98/98 [==============================] - 0s 3ms/step - loss: 0.6262 - val_loss: 0.6295\n",
            "Epoch 16/50\n",
            "98/98 [==============================] - 0s 3ms/step - loss: 0.5912 - val_loss: 0.6087\n",
            "Epoch 17/50\n",
            "98/98 [==============================] - 0s 3ms/step - loss: 0.5700 - val_loss: 0.5849\n",
            "Epoch 18/50\n",
            "98/98 [==============================] - 0s 3ms/step - loss: 0.5533 - val_loss: 0.5705\n",
            "Epoch 19/50\n",
            "98/98 [==============================] - 0s 2ms/step - loss: 0.5375 - val_loss: 0.5538\n",
            "Epoch 20/50\n",
            "98/98 [==============================] - 0s 2ms/step - loss: 0.5257 - val_loss: 0.5455\n",
            "Epoch 21/50\n",
            "98/98 [==============================] - 0s 3ms/step - loss: 0.5162 - val_loss: 0.5516\n",
            "Epoch 22/50\n",
            "98/98 [==============================] - 0s 3ms/step - loss: 0.5120 - val_loss: 0.5327\n",
            "Epoch 23/50\n",
            "98/98 [==============================] - 0s 3ms/step - loss: 0.5041 - val_loss: 0.5287\n",
            "Epoch 24/50\n",
            "98/98 [==============================] - 0s 3ms/step - loss: 0.4956 - val_loss: 0.5294\n",
            "Epoch 25/50\n",
            "98/98 [==============================] - 0s 3ms/step - loss: 0.4959 - val_loss: 0.5300\n",
            "Epoch 26/50\n",
            "98/98 [==============================] - 0s 3ms/step - loss: 0.4875 - val_loss: 0.5201\n",
            "Epoch 27/50\n",
            "98/98 [==============================] - 0s 3ms/step - loss: 0.4843 - val_loss: 0.5185\n",
            "Epoch 28/50\n",
            "98/98 [==============================] - 0s 3ms/step - loss: 0.4834 - val_loss: 0.5141\n",
            "Epoch 29/50\n",
            "98/98 [==============================] - 0s 3ms/step - loss: 0.4795 - val_loss: 0.5128\n",
            "Epoch 30/50\n",
            "98/98 [==============================] - 0s 3ms/step - loss: 0.4745 - val_loss: 0.5085\n",
            "Epoch 31/50\n",
            "98/98 [==============================] - 0s 2ms/step - loss: 0.4713 - val_loss: 0.5055\n",
            "Epoch 32/50\n",
            "98/98 [==============================] - 0s 3ms/step - loss: 0.4678 - val_loss: 0.5216\n",
            "Epoch 33/50\n",
            "98/98 [==============================] - 0s 3ms/step - loss: 0.4687 - val_loss: 0.4988\n",
            "Epoch 34/50\n",
            "98/98 [==============================] - 0s 2ms/step - loss: 0.4627 - val_loss: 0.5020\n",
            "Epoch 35/50\n",
            "98/98 [==============================] - 0s 3ms/step - loss: 0.4608 - val_loss: 0.5069\n",
            "Epoch 36/50\n",
            "98/98 [==============================] - 0s 2ms/step - loss: 0.4589 - val_loss: 0.5124\n",
            "Epoch 37/50\n",
            "98/98 [==============================] - 0s 2ms/step - loss: 0.4579 - val_loss: 0.5046\n",
            "Epoch 38/50\n",
            "98/98 [==============================] - 0s 3ms/step - loss: 0.4563 - val_loss: 0.4982\n",
            "Epoch 39/50\n",
            "98/98 [==============================] - 0s 2ms/step - loss: 0.4541 - val_loss: 0.5047\n",
            "Epoch 40/50\n",
            "98/98 [==============================] - 0s 4ms/step - loss: 0.4547 - val_loss: 0.5124\n",
            "Epoch 41/50\n",
            "98/98 [==============================] - 0s 3ms/step - loss: 0.4525 - val_loss: 0.5015\n",
            "Epoch 42/50\n",
            "98/98 [==============================] - 1s 7ms/step - loss: 0.4546 - val_loss: 0.4952\n",
            "Epoch 43/50\n",
            "98/98 [==============================] - 1s 7ms/step - loss: 0.4500 - val_loss: 0.5023\n",
            "Epoch 44/50\n",
            "98/98 [==============================] - 0s 4ms/step - loss: 0.4476 - val_loss: 0.4891\n",
            "Epoch 45/50\n",
            "98/98 [==============================] - 0s 4ms/step - loss: 0.4451 - val_loss: 0.4957\n",
            "Epoch 46/50\n",
            "98/98 [==============================] - 0s 5ms/step - loss: 0.4470 - val_loss: 0.4990\n",
            "Epoch 47/50\n",
            "98/98 [==============================] - 0s 4ms/step - loss: 0.4466 - val_loss: 0.4965\n",
            "Epoch 48/50\n",
            "98/98 [==============================] - 0s 4ms/step - loss: 0.4483 - val_loss: 0.4948\n",
            "Epoch 49/50\n",
            "98/98 [==============================] - 0s 4ms/step - loss: 0.4470 - val_loss: 0.4957\n",
            "Epoch 50/50\n",
            "98/98 [==============================] - 0s 4ms/step - loss: 0.4407 - val_loss: 0.4960\n",
            "31/31 [==============================] - 0s 2ms/step - loss: 0.4960\n",
            "Mean Squared Error on Test Data: 0.49604231119155884\n"
          ]
        }
      ]
    }
  ]
}